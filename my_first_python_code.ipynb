{
  "nbformat": 4,
  "nbformat_minor": 0,
  "metadata": {
    "colab": {
      "provenance": [],
      "toc_visible": true,
      "authorship_tag": "ABX9TyMaDSTzb5bcv0pfIgIqxJb+",
      "include_colab_link": true
    },
    "kernelspec": {
      "name": "python3",
      "display_name": "Python 3"
    },
    "language_info": {
      "name": "python"
    }
  },
  "cells": [
    {
      "cell_type": "markdown",
      "metadata": {
        "id": "view-in-github",
        "colab_type": "text"
      },
      "source": [
        "<a href=\"https://colab.research.google.com/github/2840bongkoch/dataviz2025/blob/main/my_first_python_code.ipynb\" target=\"_parent\"><img src=\"https://colab.research.google.com/assets/colab-badge.svg\" alt=\"Open In Colab\"/></a>"
      ]
    },
    {
      "cell_type": "markdown",
      "source": [
        "here can we write using **Markdown**\n",
        "\n",
        "# intro"
      ],
      "metadata": {
        "id": "Jpl1J7JDHvcd"
      }
    },
    {
      "cell_type": "markdown",
      "source": [
        "## name"
      ],
      "metadata": {
        "id": "-Bu-LgnsIJUt"
      }
    },
    {
      "cell_type": "code",
      "execution_count": 2,
      "metadata": {
        "colab": {
          "base_uri": "https://localhost:8080/"
        },
        "id": "RMPGrDHbGJu5",
        "outputId": "37c0c475-beb1-43a8-8f93-ce8cc4400a5b"
      },
      "outputs": [
        {
          "output_type": "stream",
          "name": "stdout",
          "text": [
            "Bongkoch\n"
          ]
        }
      ],
      "source": [
        "print(\"Bongkoch\")"
      ]
    },
    {
      "cell_type": "markdown",
      "source": [
        "## surname"
      ],
      "metadata": {
        "id": "yr1Xv3PGIaes"
      }
    },
    {
      "cell_type": "code",
      "source": [
        "print('Jettawan')"
      ],
      "metadata": {
        "colab": {
          "base_uri": "https://localhost:8080/"
        },
        "id": "VYllyh2cItjl",
        "outputId": "7ae3df9c-dc33-4c0b-cdf8-8a0d7dcccfb0"
      },
      "execution_count": 4,
      "outputs": [
        {
          "output_type": "stream",
          "name": "stdout",
          "text": [
            "Jettawan\n"
          ]
        }
      ]
    },
    {
      "cell_type": "markdown",
      "source": [],
      "metadata": {
        "id": "wo0ar5BHIe_E"
      }
    }
  ]
}