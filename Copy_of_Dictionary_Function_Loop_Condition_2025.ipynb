{
  "nbformat": 4,
  "nbformat_minor": 0,
  "metadata": {
    "kernelspec": {
      "display_name": "Python 3",
      "language": "python",
      "name": "python3"
    },
    "language_info": {
      "codemirror_mode": {
        "name": "ipython",
        "version": 3
      },
      "file_extension": ".py",
      "mimetype": "text/x-python",
      "name": "python",
      "nbconvert_exporter": "python",
      "pygments_lexer": "ipython3",
      "version": "3.7.4"
    },
    "colab": {
      "provenance": [],
      "include_colab_link": true
    }
  },
  "cells": [
    {
      "cell_type": "markdown",
      "metadata": {
        "id": "view-in-github",
        "colab_type": "text"
      },
      "source": [
        "<a href=\"https://colab.research.google.com/github/2840bongkoch/dataviz2025/blob/main/Copy_of_Dictionary_Function_Loop_Condition_2025.ipynb\" target=\"_parent\"><img src=\"https://colab.research.google.com/assets/colab-badge.svg\" alt=\"Open In Colab\"/></a>"
      ]
    },
    {
      "cell_type": "markdown",
      "source": [
        "HW1 note"
      ],
      "metadata": {
        "id": "2wnVRxt7Qw8x"
      }
    },
    {
      "cell_type": "markdown",
      "source": [
        "## dictionary ไม่มีลำดับ"
      ],
      "metadata": {
        "id": "Hjg6LMfxSx5h"
      }
    },
    {
      "cell_type": "code",
      "source": [
        "dict_a = {'abc':123, 'def':456, 'ghi':789}"
      ],
      "metadata": {
        "id": "WNqAUAN2SOsB"
      },
      "execution_count": null,
      "outputs": []
    },
    {
      "cell_type": "code",
      "source": [
        "print(dict_a)"
      ],
      "metadata": {
        "colab": {
          "base_uri": "https://localhost:8080/"
        },
        "id": "J6LNcY1kSsqo",
        "outputId": "dab1a70d-61f7-4508-ec8b-627dce05bd30"
      },
      "execution_count": null,
      "outputs": [
        {
          "output_type": "stream",
          "name": "stdout",
          "text": [
            "{'abc': 123, 'def': 456, 'ghi': 789}\n"
          ]
        }
      ]
    },
    {
      "cell_type": "code",
      "source": [
        "dict_a['def'] #วงเล็บเหลี่ยมใช้เรียก"
      ],
      "metadata": {
        "colab": {
          "base_uri": "https://localhost:8080/"
        },
        "id": "nnHNvaX0S4KR",
        "outputId": "213ecfdf-5b1d-40e7-91c6-a41bc41f38af"
      },
      "execution_count": null,
      "outputs": [
        {
          "output_type": "execute_result",
          "data": {
            "text/plain": [
              "456"
            ]
          },
          "metadata": {},
          "execution_count": 3
        }
      ]
    },
    {
      "cell_type": "code",
      "source": [
        "dict_b = {}"
      ],
      "metadata": {
        "id": "aJHOPqsyTWsB"
      },
      "execution_count": null,
      "outputs": []
    },
    {
      "cell_type": "code",
      "source": [
        "dict_b['a'] = 123"
      ],
      "metadata": {
        "id": "xHFDtN98TbZB"
      },
      "execution_count": null,
      "outputs": []
    },
    {
      "cell_type": "code",
      "source": [
        "dict_b"
      ],
      "metadata": {
        "colab": {
          "base_uri": "https://localhost:8080/"
        },
        "id": "zAwRwJqZTrM4",
        "outputId": "b7753a49-4c63-4ee4-e3e2-a1e15e176ec2"
      },
      "execution_count": null,
      "outputs": [
        {
          "output_type": "execute_result",
          "data": {
            "text/plain": [
              "{'a': 567, 'b': 111}"
            ]
          },
          "metadata": {},
          "execution_count": 14
        }
      ]
    },
    {
      "cell_type": "code",
      "source": [
        "dict_b['a'] = 567"
      ],
      "metadata": {
        "id": "GS6IEtFzTx0Q"
      },
      "execution_count": null,
      "outputs": []
    },
    {
      "cell_type": "code",
      "source": [
        "dict_b"
      ],
      "metadata": {
        "colab": {
          "base_uri": "https://localhost:8080/"
        },
        "id": "ShDdk4TuUAtZ",
        "outputId": "c0c8a187-ff25-47e1-f22e-bb3542586cc1"
      },
      "execution_count": null,
      "outputs": [
        {
          "output_type": "execute_result",
          "data": {
            "text/plain": [
              "{'a': 567, 'b': 111}"
            ]
          },
          "metadata": {},
          "execution_count": 15
        }
      ]
    },
    {
      "cell_type": "markdown",
      "source": [
        "### การ add สมาชิกเข้าไปใน dict"
      ],
      "metadata": {
        "id": "HvN3vlKfUHYR"
      }
    },
    {
      "cell_type": "code",
      "source": [
        "if 'b' not in dict_b:\n",
        "    dict_b['b'] = 123"
      ],
      "metadata": {
        "id": "gx_cjv66UPaR"
      },
      "execution_count": null,
      "outputs": []
    },
    {
      "cell_type": "code",
      "source": [
        "dict_b"
      ],
      "metadata": {
        "colab": {
          "base_uri": "https://localhost:8080/"
        },
        "id": "Zb0uza3zUb_R",
        "outputId": "86f60a89-3b72-448e-9802-cdcb46b0fe7d"
      },
      "execution_count": null,
      "outputs": [
        {
          "output_type": "execute_result",
          "data": {
            "text/plain": [
              "{'a': 567, 'b': 111}"
            ]
          },
          "metadata": {},
          "execution_count": 20
        }
      ]
    },
    {
      "cell_type": "code",
      "source": [
        "inp = '12:30:15-13:41:07'\n",
        "inp_list = inp.split('-')\n",
        "inp_list"
      ],
      "metadata": {
        "colab": {
          "base_uri": "https://localhost:8080/"
        },
        "id": "7b9PZ1gTQ0EA",
        "outputId": "b9f21012-312d-450a-dec1-1ecc4893a91c"
      },
      "execution_count": null,
      "outputs": [
        {
          "output_type": "execute_result",
          "data": {
            "text/plain": [
              "['12:30:15', '13:41:07']"
            ]
          },
          "metadata": {},
          "execution_count": 1
        }
      ]
    },
    {
      "cell_type": "markdown",
      "metadata": {
        "id": "-57L9aVubPqU"
      },
      "source": [
        "# Function"
      ]
    },
    {
      "cell_type": "markdown",
      "metadata": {
        "id": "1DNzYhO4bPqb"
      },
      "source": [
        "## Function template\n",
        "#### ทำหน้าที่รับ input มาประมวณผลออกมาเป็น output\n",
        "#### f(x) = y"
      ]
    },
    {
      "cell_type": "markdown",
      "metadata": {
        "id": "3Nv1ZDEKbPqc"
      },
      "source": [
        "### def คือการกำหนดฟังก์ชัน"
      ]
    },
    {
      "cell_type": "markdown",
      "metadata": {
        "id": "DbHDoWEabPqc"
      },
      "source": [
        "```python\n",
        "    def function_name(_Input_) :\n",
        "        do_something with _Input_ to get _Output_\n",
        "        return _Output_\n",
        "```"
      ]
    },
    {
      "cell_type": "markdown",
      "metadata": {
        "id": "1fuimreqpVhU"
      },
      "source": [
        "เราใช้ เว้นวรรค (indent) เพื่อบอกขอบเขตของโปรแกรม"
      ]
    },
    {
      "cell_type": "markdown",
      "metadata": {
        "id": "kh2M1smCl5Iv"
      },
      "source": [
        "function มีส่วนสำคัญทั้งหมด 4 ส่วน\n",
        "\n",
        "1.   บอก python ว่าเราจะเขียนฟังก์ชั่น ชื่ออะไร  ```def function_name():``` (ขาดไม่ได้)\n",
        "2.   กำหนดตัวแปรที่จะเป็น input  ```_Input_``` (ขาดได้)\n",
        "3.   ส่วนประมวลผล ```do_something with _Input_ to get _Output_``` (ขาดไม่ได้)\n",
        "4.   ส่วน output ```return _Output_```(ขาดได้)\n",
        "\n"
      ]
    },
    {
      "cell_type": "markdown",
      "metadata": {
        "id": "lqWzVN5AbPqc"
      },
      "source": [
        "#### ตัวอย่างการเขียน normal function\n"
      ]
    },
    {
      "cell_type": "code",
      "source": [
        "def print_myname():   # ตัวอย่าง function ที่ไม่มีทั้ง input และ output\n",
        "    print('Bongkoch')"
      ],
      "metadata": {
        "id": "6wzfVo_pTefO"
      },
      "execution_count": null,
      "outputs": []
    },
    {
      "cell_type": "code",
      "source": [
        "print_myname()"
      ],
      "metadata": {
        "colab": {
          "base_uri": "https://localhost:8080/"
        },
        "id": "482E9UnsUMkC",
        "outputId": "d27852ab-5edd-493f-99ee-547442019c6d"
      },
      "execution_count": null,
      "outputs": [
        {
          "output_type": "stream",
          "name": "stdout",
          "text": [
            "Bongkoch\n"
          ]
        }
      ]
    },
    {
      "cell_type": "code",
      "source": [
        "b = print_myname()"
      ],
      "metadata": {
        "colab": {
          "base_uri": "https://localhost:8080/"
        },
        "id": "BmiOuy0eXfVo",
        "outputId": "ef207213-e087-44eb-93e1-530b440d5165"
      },
      "execution_count": null,
      "outputs": [
        {
          "output_type": "stream",
          "name": "stdout",
          "text": [
            "Bongkoch\n"
          ]
        }
      ]
    },
    {
      "cell_type": "code",
      "source": [
        "b #ไม่มีรีเทิร์นจึงว่าง"
      ],
      "metadata": {
        "id": "39D7DEoZXjAR"
      },
      "execution_count": null,
      "outputs": []
    },
    {
      "cell_type": "code",
      "source": [
        "def print_name(name):        # ตัวอย่าง function ที่ มีครบทุกส่วน\n",
        "    st = f'ชื่อ {name}'\n",
        "    return st"
      ],
      "metadata": {
        "id": "R1qagQXqWt0q"
      },
      "execution_count": null,
      "outputs": []
    },
    {
      "cell_type": "code",
      "source": [
        "print_name('stat')"
      ],
      "metadata": {
        "colab": {
          "base_uri": "https://localhost:8080/",
          "height": 35
        },
        "id": "PwLOuCc3W8mh",
        "outputId": "76b4fd46-aac1-46a8-c7b5-d7d81b3ee427"
      },
      "execution_count": null,
      "outputs": [
        {
          "output_type": "execute_result",
          "data": {
            "text/plain": [
              "'ชื่อ stat'"
            ],
            "application/vnd.google.colaboratory.intrinsic+json": {
              "type": "string"
            }
          },
          "metadata": {},
          "execution_count": 47
        }
      ]
    },
    {
      "cell_type": "code",
      "source": [
        "a = print_name('stat')\n",
        "a"
      ],
      "metadata": {
        "colab": {
          "base_uri": "https://localhost:8080/",
          "height": 35
        },
        "id": "UZzyQVobXQvJ",
        "outputId": "2fe76a2d-8633-47b0-b9d6-0d953e02f7b3"
      },
      "execution_count": null,
      "outputs": [
        {
          "output_type": "execute_result",
          "data": {
            "text/plain": [
              "'ชื่อ stat'"
            ],
            "application/vnd.google.colaboratory.intrinsic+json": {
              "type": "string"
            }
          },
          "metadata": {},
          "execution_count": 48
        }
      ]
    },
    {
      "cell_type": "code",
      "metadata": {
        "id": "n706WULobPqc"
      },
      "source": [
        "def print_fullname(surname,ID,name):        # ตัวอย่าง function ที่ มี input หลายตัว กับ output 1 ตัว\n",
        "    st = f'ชื่อ {name} นามสกุล {surname} รหัส {ID}'\n",
        "    return st"
      ],
      "execution_count": null,
      "outputs": []
    },
    {
      "cell_type": "code",
      "source": [
        "print_fullname('เจตวัน','663020284-0','บงกช')"
      ],
      "metadata": {
        "colab": {
          "base_uri": "https://localhost:8080/",
          "height": 35
        },
        "id": "cpgaw1fSV4w5",
        "outputId": "128c7d45-a035-44f6-8ec0-a757f69a43aa"
      },
      "execution_count": null,
      "outputs": [
        {
          "output_type": "execute_result",
          "data": {
            "text/plain": [
              "'ชื่อ บงกช นามสกุล เจตวัน รหัส 663020284-0'"
            ],
            "application/vnd.google.colaboratory.intrinsic+json": {
              "type": "string"
            }
          },
          "metadata": {},
          "execution_count": 50
        }
      ]
    },
    {
      "cell_type": "code",
      "metadata": {
        "colab": {
          "base_uri": "https://localhost:8080/",
          "height": 35
        },
        "id": "muh0pi_Gkym8",
        "outputId": "1e81c0ba-d38f-4176-b2c6-e2a4273da8a9"
      },
      "source": [
        "print_name('อินทระ','64xxxxxx','ธนพงศ์')"
      ],
      "execution_count": null,
      "outputs": [
        {
          "output_type": "execute_result",
          "data": {
            "text/plain": [
              "'ชื่อ ธนพงศ์ นามสกุล อินทระ รหัส 64xxxxxx'"
            ],
            "application/vnd.google.colaboratory.intrinsic+json": {
              "type": "string"
            }
          },
          "metadata": {},
          "execution_count": 27
        }
      ]
    },
    {
      "cell_type": "code",
      "source": [
        "print_fullname(name='บงกช',surname='เจตวัน',ID='663020284-0')"
      ],
      "metadata": {
        "colab": {
          "base_uri": "https://localhost:8080/",
          "height": 35
        },
        "id": "vxooaHuHVTDJ",
        "outputId": "d836d10a-94c3-4707-99eb-beb47ee9b1ab"
      },
      "execution_count": null,
      "outputs": [
        {
          "output_type": "execute_result",
          "data": {
            "text/plain": [
              "'ชื่อ บงกช นามสกุล เจตวัน รหัส 663020284-0'"
            ],
            "application/vnd.google.colaboratory.intrinsic+json": {
              "type": "string"
            }
          },
          "metadata": {},
          "execution_count": 55
        }
      ]
    },
    {
      "cell_type": "markdown",
      "metadata": {
        "id": "tSV-FUQBpx0i"
      },
      "source": [
        "**ฟังก์ชั่นไม่จำเป็นต้องมี output**"
      ]
    },
    {
      "cell_type": "code",
      "metadata": {
        "id": "loNAFSvLo5dC"
      },
      "source": [
        "def print_fullname2(surname,ID,name):\n",
        "    st = f'ชื่อ {name} นามสกุล {surname} รหัส {ID}'\n",
        "    print(st)"
      ],
      "execution_count": null,
      "outputs": []
    },
    {
      "cell_type": "code",
      "metadata": {
        "colab": {
          "base_uri": "https://localhost:8080/"
        },
        "id": "JE88oCj8o_j_",
        "outputId": "091b3887-abef-42db-d723-5ec8c16563e9"
      },
      "source": [
        "print_fullname2(name='บงกช',surname='เจตวัน',ID='663020284-0')"
      ],
      "execution_count": null,
      "outputs": [
        {
          "output_type": "stream",
          "name": "stdout",
          "text": [
            "ชื่อ บงกช นามสกุล เจตวัน รหัส 663020284-0\n"
          ]
        }
      ]
    },
    {
      "cell_type": "markdown",
      "source": [
        "### ข้อแตกต่างระหว่าง function ที่มีและไม่มี output"
      ],
      "metadata": {
        "id": "dW328wxLWauv"
      }
    },
    {
      "cell_type": "code",
      "source": [
        "out_printname1 = print_fullname(name='บงกช',surname='เจตวัน',ID='663020284-0') # มี output\n",
        "print(out_printname1)"
      ],
      "metadata": {
        "colab": {
          "base_uri": "https://localhost:8080/"
        },
        "id": "Ae6C6-DTWFOD",
        "outputId": "860c5caf-5290-4019-8642-c7487193b801"
      },
      "execution_count": null,
      "outputs": [
        {
          "output_type": "stream",
          "name": "stdout",
          "text": [
            "ชื่อ บงกช นามสกุล เจตวัน รหัส 663020284-0\n"
          ]
        }
      ]
    },
    {
      "cell_type": "code",
      "source": [
        "out_printname1"
      ],
      "metadata": {
        "colab": {
          "base_uri": "https://localhost:8080/",
          "height": 35
        },
        "id": "yPtH94N0WtsE",
        "outputId": "60917ed9-402c-4338-b332-9ffa1cf4a762"
      },
      "execution_count": null,
      "outputs": [
        {
          "output_type": "execute_result",
          "data": {
            "text/plain": [
              "'ชื่อ บงกช นามสกุล เจตวัน รหัส 663020284-0'"
            ],
            "application/vnd.google.colaboratory.intrinsic+json": {
              "type": "string"
            }
          },
          "metadata": {},
          "execution_count": 61
        }
      ]
    },
    {
      "cell_type": "code",
      "source": [
        "out_printname2 = print_fullname2(name='กาญจนา',surname='ประสาคุณ',ID='603021855-2')  # ไม่มี output\n",
        "print(out_printname2)"
      ],
      "metadata": {
        "colab": {
          "base_uri": "https://localhost:8080/"
        },
        "id": "AbT5pKVYWRBn",
        "outputId": "b2888820-2564-402d-8905-7c2519c525e2"
      },
      "execution_count": null,
      "outputs": [
        {
          "output_type": "stream",
          "name": "stdout",
          "text": [
            "ชื่อ กาญจนา นามสกุล ประสาคุณ รหัส 603021855-2\n",
            "None\n"
          ]
        }
      ]
    },
    {
      "cell_type": "code",
      "source": [
        "out_printname2"
      ],
      "metadata": {
        "id": "l_fW68dyXDw3"
      },
      "execution_count": null,
      "outputs": []
    },
    {
      "cell_type": "markdown",
      "metadata": {
        "id": "JF4RdyEBqPyl"
      },
      "source": [
        "ฟังก์ชั่นไม่จำเป็นต้องมี input"
      ]
    },
    {
      "cell_type": "code",
      "metadata": {
        "id": "LNb_o_ZXo_gh"
      },
      "source": [
        "def Pi():\n",
        "    return 3.14159265359"
      ],
      "execution_count": null,
      "outputs": []
    },
    {
      "cell_type": "code",
      "metadata": {
        "colab": {
          "base_uri": "https://localhost:8080/"
        },
        "id": "htN6zLbFo_dr",
        "outputId": "466041ba-477d-4c09-d8b0-46ffc062455f"
      },
      "source": [
        "Pi()*(2**2) # หาพื้นที่ของวงกลมที่มีรัศมีเท่ากับ Pi * r^2"
      ],
      "execution_count": null,
      "outputs": [
        {
          "output_type": "execute_result",
          "data": {
            "text/plain": [
              "12.56637061436"
            ]
          },
          "metadata": {},
          "execution_count": 67
        }
      ]
    },
    {
      "cell_type": "markdown",
      "metadata": {
        "id": "ywc0Ho-_rUTu"
      },
      "source": [
        "## เราสามารถกำหนดค่า default ให้กับ input ของฟังก์ชั่นได้"
      ]
    },
    {
      "cell_type": "markdown",
      "metadata": {
        "id": "y_74dHkjxS7f"
      },
      "source": [
        "input ของ function ใน python มีสองแบบ input ที่จำเป็นต้องใส่ กับ input ที่ไม่จำเป็นต้องใส่ (มีค่า default)\n",
        "\n",
        "เราต้องเรียง input ที่จำเป็นต้องใส่ขึ้นก่อน"
      ]
    },
    {
      "cell_type": "code",
      "metadata": {
        "id": "0Lrh-6mAo_bA"
      },
      "source": [
        "def print_2lines_default(name,surname,ID,grade='F'):\n",
        "    st = f'ชื่อ {name} นามสกุล {surname} รหัส {ID}'\n",
        "    print (st)\n",
        "    st2=f'เกรดวิชา Data Viz >>> {grade}'\n",
        "    print(st2)"
      ],
      "execution_count": null,
      "outputs": []
    },
    {
      "cell_type": "code",
      "metadata": {
        "colab": {
          "base_uri": "https://localhost:8080/"
        },
        "id": "ZH31VIjko_WP",
        "outputId": "36e3c503-0f85-47d6-ef04-acc48f8d0279"
      },
      "source": [
        "print_2lines_default('ไม่มี','คนได้','65-xxxxxxxx')"
      ],
      "execution_count": null,
      "outputs": [
        {
          "output_type": "stream",
          "name": "stdout",
          "text": [
            "ชื่อ ไม่มี นามสกุล คนได้ รหัส 65-xxxxxxxx\n",
            "เกรดวิชา Data Viz >>> F\n"
          ]
        }
      ]
    },
    {
      "cell_type": "code",
      "metadata": {
        "colab": {
          "base_uri": "https://localhost:8080/"
        },
        "id": "FKGr2Iyuo_S2",
        "outputId": "36fcc3ba-60e0-46af-83de-dec756b11b65"
      },
      "source": [
        "print_2lines_default('ธันยาการต์','พวงมาลัย','613020551-8','A')"
      ],
      "execution_count": null,
      "outputs": [
        {
          "output_type": "stream",
          "name": "stdout",
          "text": [
            "ชื่อ ธันยาการต์ นามสกุล พวงมาลัย รหัส 613020551-8\n",
            "เกรดวิชา Data Viz >>> A\n"
          ]
        }
      ]
    },
    {
      "cell_type": "code",
      "source": [
        "print_2lines_default('ธันยาการต์','พวงมาลัย','613020551-8',grade = 'A')"
      ],
      "metadata": {
        "colab": {
          "base_uri": "https://localhost:8080/"
        },
        "id": "Au_P2Cm8ZDXL",
        "outputId": "a6e0a4cf-809c-49aa-fc01-b3b6b3a31a19"
      },
      "execution_count": null,
      "outputs": [
        {
          "output_type": "stream",
          "name": "stdout",
          "text": [
            "ชื่อ ธันยาการต์ นามสกุล พวงมาลัย รหัส 613020551-8\n",
            "เกรดวิชา Data Viz >>> A\n"
          ]
        }
      ]
    },
    {
      "cell_type": "code",
      "source": [
        "print_2lines_default('ธันยาการต์','พวงมาลัย')"
      ],
      "metadata": {
        "colab": {
          "base_uri": "https://localhost:8080/",
          "height": 141
        },
        "id": "cLGa_pO1Zv1U",
        "outputId": "6dcfa25d-4400-48d3-ffdc-63c658f44fe2"
      },
      "execution_count": null,
      "outputs": [
        {
          "output_type": "error",
          "ename": "TypeError",
          "evalue": "print_2lines_default() missing 1 required positional argument: 'ID'",
          "traceback": [
            "\u001b[0;31m---------------------------------------------------------------------------\u001b[0m",
            "\u001b[0;31mTypeError\u001b[0m                                 Traceback (most recent call last)",
            "\u001b[0;32m/tmp/ipython-input-73-2908973391.py\u001b[0m in \u001b[0;36m<cell line: 0>\u001b[0;34m()\u001b[0m\n\u001b[0;32m----> 1\u001b[0;31m \u001b[0mprint_2lines_default\u001b[0m\u001b[0;34m(\u001b[0m\u001b[0;34m'ธันยาการต์'\u001b[0m\u001b[0;34m,\u001b[0m\u001b[0;34m'พวงมาลัย'\u001b[0m\u001b[0;34m)\u001b[0m\u001b[0;34m\u001b[0m\u001b[0;34m\u001b[0m\u001b[0m\n\u001b[0m",
            "\u001b[0;31mTypeError\u001b[0m: print_2lines_default() missing 1 required positional argument: 'ID'"
          ]
        }
      ]
    },
    {
      "cell_type": "markdown",
      "source": [
        "# Quiz3\n",
        "เขียน function ของ Hw2"
      ],
      "metadata": {
        "id": "Alh7JMwDa1k1"
      }
    },
    {
      "cell_type": "code",
      "source": [
        "# prompt: เขียน function คำนวณหาวินาที 12:30:15, Wednesday - 13:41:07, Thursday\n",
        "\n",
        "from datetime import datetime\n",
        "\n",
        "def calculate_time_difference(start_time_str, end_time_str, start_day, end_day):\n",
        "    \"\"\"\n",
        "    Calculates the time difference in seconds between two time strings with specified days.\n",
        "\n",
        "    Args:\n",
        "        start_time_str (str): Start time in 'HH:MM:SS' format.\n",
        "        end_time_str (str): End time in 'HH:MM:SS' format.\n",
        "        start_day (str): Start day (e.g., 'Monday', 'Tuesday').\n",
        "        end_day (str): End day (e.g., 'Wednesday', 'Thursday').\n",
        "\n",
        "    Returns:\n",
        "        int: Time difference in seconds.\n",
        "    \"\"\"\n",
        "    day_map = {\n",
        "        'Monday': 0,\n",
        "        'Tuesday': 1,\n",
        "        'Wednesday': 2,\n",
        "        'Thursday': 3,\n",
        "        'Friday': 4,\n",
        "        'Saturday': 5,\n",
        "        'Sunday': 6\n",
        "    }\n",
        "\n",
        "    start_day_num = day_map.get(start_day, 0)\n",
        "    end_day_num = day_map.get(end_day, 0)\n",
        "\n",
        "    # Create dummy dates to handle day difference\n",
        "    start_dt_str = f'2023-10-{23 + start_day_num:02d} {start_time_str}' # Using Oct 23, 2023 as a reference Monday\n",
        "    end_dt_str = f'2023-10-{23 + end_day_num:02d} {end_time_str}'\n",
        "\n",
        "    start_dt = datetime.strptime(start_dt_str, '%Y-%m-%d %H:%M:%S')\n",
        "    end_dt = datetime.strptime(end_dt_str, '%Y-%m-%d %H:%M:%S')\n",
        "\n",
        "    time_difference = end_dt - start_dt\n",
        "\n",
        "    return int(time_difference.total_seconds())\n",
        "\n",
        "# Example usage:\n",
        "start_time = '12:30:15'\n",
        "end_time = '13:41:07'\n",
        "start_day = 'Wednesday'\n",
        "end_day = 'Thursday'\n",
        "\n",
        "seconds_diff = calculate_time_difference(start_time, end_time, start_day, end_day)\n",
        "print(f\"The time difference is: {seconds_diff} seconds\")\n",
        "\n"
      ],
      "metadata": {
        "colab": {
          "base_uri": "https://localhost:8080/"
        },
        "id": "Qnl3btCyd65a",
        "outputId": "cf7f3c1e-7492-4f2d-c336-30d6e92d1624"
      },
      "execution_count": null,
      "outputs": [
        {
          "output_type": "stream",
          "name": "stdout",
          "text": [
            "The time difference is: 90652 seconds\n"
          ]
        }
      ]
    },
    {
      "cell_type": "code",
      "source": [
        "# prompt: เขียน function คำนวณหาวินาที 12:53:15, Monday - 00:59:25, Tuesday\n",
        "\n",
        "def calculate_seconds_between(start_time_str, start_day_str, end_time_str, end_day_str):\n",
        "    \"\"\"\n",
        "    Calculates the number of seconds between two times on potentially different days.\n",
        "\n",
        "    Args:\n",
        "        start_time_str (str): The starting time string in \"HH:MM:SS\" format.\n",
        "        start_day_str (str): The starting day string (e.g., \"Monday\", \"Tuesday\").\n",
        "        end_time_str (str): The ending time string in \"HH:MM:SS\" format.\n",
        "        end_day_str (str): The ending day string (e.g., \"Monday\", \"Tuesday\").\n",
        "\n",
        "    Returns:\n",
        "        int: The total number of seconds between the start and end time/day.\n",
        "    \"\"\"\n",
        "    day_map = {\n",
        "        'Monday': 0,\n",
        "        'Tuesday': 1,\n",
        "        'Wednesday': 2,\n",
        "        'Thursday': 3,\n",
        "        'Friday': 4,\n",
        "        'Saturday': 5,\n",
        "        'Sunday': 6\n",
        "    }\n",
        "\n",
        "    start_day_num = day_map.get(start_day_str, 0)\n",
        "    end_day_num = day_map.get(end_day_str, 0)\n",
        "\n",
        "    # Create dummy datetimes to calculate difference, assuming same year and month\n",
        "    # We use day numbers to handle crossing midnight and days.\n",
        "    # The specific date (year, month, day) doesn't matter as long as the day difference is correct.\n",
        "    # Let's use a fixed reference date like 2023-10-23 for Monday (day 0)\n",
        "    start_dt_str = f'2023-10-{23 + start_day_num:02d} {start_time_str}'\n",
        "    end_dt_str = f'2023-10-{23 + end_day_num:02d} {end_time_str}'\n",
        "\n",
        "    start_dt = datetime.strptime(start_dt_str, '%Y-%m-%d %H:%M:%S')\n",
        "    end_dt = datetime.strptime(end_dt_str, '%Y-%m-%d %H:%M:%S')\n",
        "\n",
        "    time_difference = end_dt - start_dt\n",
        "\n",
        "    return int(time_difference.total_seconds())\n",
        "\n",
        "# Example usage for 12:53:15, Monday - 00:59:25, Tuesday\n",
        "start_time_example = '12:53:15'\n",
        "start_day_example = 'Monday'\n",
        "end_time_example = '00:59:25'\n",
        "end_day_example = 'Tuesday'\n",
        "\n",
        "seconds_diff_example = calculate_seconds_between(start_time_example, start_day_example, end_time_example, end_day_example)\n",
        "print(f\"The time difference between {start_time_example}, {start_day_example} and {end_time_example}, {end_day_example} is: {seconds_diff_example} seconds\")\n"
      ],
      "metadata": {
        "colab": {
          "base_uri": "https://localhost:8080/"
        },
        "id": "VV4_k06UeMAq",
        "outputId": "2273ecc1-0e2a-44c2-f47f-2701a8c8ffc0"
      },
      "execution_count": null,
      "outputs": [
        {
          "output_type": "stream",
          "name": "stdout",
          "text": [
            "The time difference between 12:53:15, Monday and 00:59:25, Tuesday is: 43570 seconds\n"
          ]
        }
      ]
    },
    {
      "cell_type": "code",
      "source": [
        "# prompt: เขียน function คำนวณหาวินาที 16:06:09, Sunday - 11:11:11 Tuesday ไม่ติดลบ\n",
        "\n",
        "def calculate_positive_seconds_between(start_time_str, start_day_str, end_time_str, end_day_str):\n",
        "    \"\"\"\n",
        "    Calculates the number of seconds between two times on potentially different days,\n",
        "    ensuring the result is not negative by potentially wrapping around the week.\n",
        "\n",
        "    Args:\n",
        "        start_time_str (str): The starting time string in \"HH:MM:SS\" format.\n",
        "        start_day_str (str): The starting day string (e.g., \"Monday\", \"Tuesday\").\n",
        "        end_time_str (str): The ending time string in \"HH:MM:SS\" format.\n",
        "        end_day_str (str): The ending day string (e.g., \"Monday\", \"Tuesday\").\n",
        "\n",
        "    Returns:\n",
        "        int: The total number of seconds between the start and end time/day (non-negative).\n",
        "    \"\"\"\n",
        "    day_map = {\n",
        "        'Monday': 0,\n",
        "        'Tuesday': 1,\n",
        "        'Wednesday': 2,\n",
        "        'Thursday': 3,\n",
        "        'Friday': 4,\n",
        "        'Saturday': 5,\n",
        "        'Sunday': 6\n",
        "    }\n",
        "\n",
        "    start_day_num = day_map.get(start_day_str, 0)\n",
        "    end_day_num = day_map.get(end_day_str, 0)\n",
        "\n",
        "    # Create dummy datetimes to calculate difference\n",
        "    # We use day numbers to handle crossing midnight and days.\n",
        "    # The specific date (year, month, day) doesn't matter as long as the day difference is correct.\n",
        "    # Let's use a fixed reference date like 2023-10-23 for Monday (day 0)\n",
        "    start_dt_str = f'2023-10-{23 + start_day_num:02d} {start_time_str}'\n",
        "    end_dt_str = f'2023-10-{23 + end_day_num:02d} {end_time_str}'\n",
        "\n",
        "    start_dt = datetime.strptime(start_dt_str, '%Y-%m-%d %H:%M:%S')\n",
        "    end_dt = datetime.strptime(end_dt_str, '%Y-%m-%d %H:%M:%S')\n",
        "\n",
        "    time_difference = end_dt - start_dt\n",
        "\n",
        "    # If the difference is negative (end time is before start time within the week)\n",
        "    # add a week's worth of seconds to make it positive.\n",
        "    if time_difference.total_seconds() < 0:\n",
        "        time_difference += timedelta(days=7)\n",
        "\n",
        "    return int(time_difference.total_seconds())\n",
        "\n",
        "# Example usage for 16:06:09, Sunday - 11:11:11 Tuesday\n",
        "start_time_sunday = '16:06:09'\n",
        "start_day_sunday = 'Sunday'\n",
        "end_time_tuesday = '11:11:11'\n",
        "end_day_tuesday = 'Tuesday'\n",
        "\n",
        "seconds_diff_example_2 = calculate_positive_seconds_between(start_time_sunday, start_day_sunday, end_time_tuesday, end_day_tuesday)\n",
        "print(f\"The time difference between {start_time_sunday}, {start_day_sunday} and {end_time_tuesday}, {end_day_tuesday} is: {seconds_diff_example_2} seconds\")"
      ],
      "metadata": {
        "colab": {
          "base_uri": "https://localhost:8080/"
        },
        "id": "P67QWK2Pezdi",
        "outputId": "21b4ea65-a7b6-492e-cdb6-04dda62d9e42"
      },
      "execution_count": null,
      "outputs": [
        {
          "output_type": "stream",
          "name": "stdout",
          "text": [
            "The time difference between 16:06:09, Sunday and 11:11:11, Tuesday is: 155102 seconds\n"
          ]
        }
      ]
    },
    {
      "cell_type": "code",
      "source": [
        "def cal_dif_secs(timeinput):\n",
        "    timelist = timeinput.split('-')\n",
        "    time1 = timelist[0].split(':')\n",
        "    time2 = timelist[1].split(':')\n",
        "    time1_sec = int(time1[0])*3600 + int(time1[1])*60 + int(time1[2])\n",
        "    time2_sec = int(time2[0])*3600 + int(time2[1])*60 + int(time2[2])\n",
        "    dif_sec = time2_sec - time1_sec\n",
        "    return dif_sec"
      ],
      "metadata": {
        "id": "Y_cPWPKzewFM"
      },
      "execution_count": null,
      "outputs": []
    },
    {
      "cell_type": "code",
      "source": [
        "cal_dif_secs('12:30:15-13:41:07')"
      ],
      "metadata": {
        "colab": {
          "base_uri": "https://localhost:8080/"
        },
        "id": "1lO3BaYJfUuF",
        "outputId": "e85344df-baad-4dd5-9955-684fd865cdfc"
      },
      "execution_count": null,
      "outputs": [
        {
          "output_type": "execute_result",
          "data": {
            "text/plain": [
              "4252"
            ]
          },
          "metadata": {},
          "execution_count": 19
        }
      ]
    },
    {
      "cell_type": "code",
      "source": [
        "# prompt: เขียน function คำนวณหาวินาที 12:30:15, Wednesday - 13:41:07, Thursday มีการใช้ default โดยถ้ากรอกวันเดียวกันให้ไม่ต้องกรอกเลยหรือกรอกแค1ตัว\n",
        "\n",
        "from datetime import timedelta\n",
        "\n",
        "def calculate_seconds_between_with_default_day(start_time_str, end_time_str, start_day=None, end_day=None):\n",
        "    \"\"\"\n",
        "    Calculates the number of seconds between two times on potentially different days.\n",
        "    Uses default day if only one day or no day is provided.\n",
        "\n",
        "    Args:\n",
        "        start_time_str (str): The starting time string in \"HH:MM:SS\" format.\n",
        "        end_time_str (str): The ending time string in \"HH:MM:SS\" format.\n",
        "        start_day (str, optional): The starting day string (e.g., \"Monday\", \"Tuesday\").\n",
        "                                   If None, uses the same day as end_day or defaults to Monday.\n",
        "        end_day (str, optional): The ending day string (e.g., \"Monday\", \"Tuesday\").\n",
        "                                 If None, uses the same day as start_day or defaults to Monday.\n",
        "\n",
        "    Returns:\n",
        "        int: The total number of seconds between the start and end time/day.\n",
        "    \"\"\"\n",
        "    day_map = {\n",
        "        'Monday': 0,\n",
        "        'Tuesday': 1,\n",
        "        'Wednesday': 2,\n",
        "        'Thursday': 3,\n",
        "        'Friday': 4,\n",
        "        'Saturday': 5,\n",
        "        'Sunday': 6\n",
        "    }\n",
        "\n",
        "    # Determine the days with default logic\n",
        "    if start_day is None and end_day is None:\n",
        "        start_day_str = 'Monday' # Default to Monday if no day is given\n",
        "        end_day_str = 'Monday'\n",
        "    elif start_day is None:\n",
        "        start_day_str = end_day # Use end_day as start_day if only end_day is given\n",
        "        end_day_str = end_day\n",
        "    elif end_day is None:\n",
        "        end_day_str = start_day # Use start_day as end_day if only start_day is given\n",
        "        start_day_str = start_day\n",
        "    else:\n",
        "        start_day_str = start_day\n",
        "        end_day_str = end_day\n",
        "\n",
        "\n",
        "    start_day_num = day_map.get(start_day_str, 0)\n",
        "    end_day_num = day_map.get(end_day_str, 0)\n",
        "\n",
        "    # Create dummy datetimes to calculate difference\n",
        "    # We use day numbers to handle crossing midnight and days.\n",
        "    # The specific date (year, month, day) doesn't matter as long as the day difference is correct.\n",
        "    # Let's use a fixed reference date like 2023-10-23 for Monday (day 0)\n",
        "    start_dt_str = f'2023-10-{23 + start_day_num:02d} {start_time_str}'\n",
        "    end_dt_str = f'2023-10-{23 + end_day_num:02d} {end_time_str}'\n",
        "\n",
        "    start_dt = datetime.strptime(start_dt_str, '%Y-%m-%d %H:%M:%S')\n",
        "    end_dt = datetime.strptime(end_dt_str, '%Y-%m-%d %H:%M:%S')\n",
        "\n",
        "    time_difference = end_dt - start_dt\n",
        "\n",
        "    return int(time_difference.total_seconds())\n",
        "\n",
        "# Example usage: 12:30:15, Wednesday - 13:41:07, Thursday\n",
        "start_time = '12:30:15'\n",
        "end_time = '13:41:07'\n",
        "start_day = 'Wednesday'\n",
        "end_day = 'Thursday'\n",
        "\n",
        "seconds_diff = calculate_seconds_between_with_default_day(start_time, end_time, start_day, end_day)\n",
        "print(f\"เวลาที่แตกต่างระหว่าง {start_time}, {start_day} และ {end_time}, {end_day} คือ: {seconds_diff} วินาที\")\n",
        "\n",
        "# Example usage with only start day provided (end day defaults to start day)\n",
        "start_time_same_day = '10:00:00'\n",
        "end_time_same_day = '11:00:00'\n",
        "start_day_same_day = 'Friday'\n",
        "\n",
        "seconds_diff_same_day = calculate_seconds_between_with_default_day(start_time_same_day, end_time_same_day, start_day=start_day_same_day)\n",
        "print(f\"เวลาที่แตกต่างระหว่าง {start_time_same_day}, {start_day_same_day} และ {end_time_same_day}, วันเดียวกัน คือ: {seconds_diff_same_day} วินาที\")\n",
        "\n",
        "# Example usage with only end day provided (start day defaults to end day)\n",
        "start_time_same_day_2 = '10:00:00'\n",
        "end_time_same_day_2 = '11:00:00'\n",
        "end_day_same_day_2 = 'Saturday'\n",
        "\n",
        "seconds_diff_same_day_2 = calculate_seconds_between_with_default_day(start_time_same_day_2, end_time_same_day_2, end_day=end_day_same_day_2)\n",
        "print(f\"เวลาที่แตกต่างระหว่าง {start_time_same_day_2}, วันเดียวกัน และ {end_time_same_day_2}, {end_day_same_day_2} คือ: {seconds_diff_same_day_2} วินาที\")\n",
        "\n",
        "\n",
        "# Example usage with no day provided (defaults to Monday for both)\n",
        "start_time_no_day = '10:00:00'\n",
        "end_time_no_day = '11:00:00'\n",
        "\n",
        "seconds_diff_no_day = calculate_seconds_between_with_default_day(start_time_no_day, end_time_no_day)\n",
        "print(f\"เวลาที่แตกต่างระหว่าง {start_time_no_day} และ {end_time_no_day} (วันจันทร์ทั้งคู่) คือ: {seconds_diff_no_day} วินาที\")\n"
      ],
      "metadata": {
        "colab": {
          "base_uri": "https://localhost:8080/"
        },
        "id": "BdDdOTvdgwkC",
        "outputId": "31aa501b-ee70-4ddf-e332-33b6f14fa4af"
      },
      "execution_count": 112,
      "outputs": [
        {
          "output_type": "stream",
          "name": "stdout",
          "text": [
            "เวลาที่แตกต่างระหว่าง 12:30:15, Wednesday และ 13:41:07, Thursday คือ: 90652 วินาที\n",
            "เวลาที่แตกต่างระหว่าง 10:00:00, Friday และ 11:00:00, วันเดียวกัน คือ: 3600 วินาที\n",
            "เวลาที่แตกต่างระหว่าง 10:00:00, วันเดียวกัน และ 11:00:00, Saturday คือ: 3600 วินาที\n",
            "เวลาที่แตกต่างระหว่าง 10:00:00 และ 11:00:00 (วันจันทร์ทั้งคู่) คือ: 3600 วินาที\n"
          ]
        }
      ]
    },
    {
      "cell_type": "code",
      "source": [
        "# prompt: prompt: เขียน function คำนวณหาวินาที 12:53:15, Monday - 00:59:25, Tuesdayมีการใช้ default โดยถ้ากรอกวันเดียวกันให้ไม่ต้องกรอกเลยหรือกรอกแค1ตัว\n",
        "\n",
        "def calculate_seconds_between_with_default_day(start_time_str, end_time_str, start_day=None, end_day=None):\n",
        "    \"\"\"\n",
        "    Calculates the number of seconds between two times on potentially different days.\n",
        "    Uses default day logic:\n",
        "    - If both start_day and end_day are None, both default to Monday.\n",
        "    - If only start_day is None, start_day defaults to end_day.\n",
        "    - If only end_day is None, end_day defaults to start_day.\n",
        "\n",
        "    Args:\n",
        "        start_time_str (str): The starting time string in \"HH:MM:SS\" format.\n",
        "        end_time_str (str): The ending time string in \"HH:MM:SS\" format.\n",
        "        start_day (str, optional): The starting day string (e.g., \"Monday\", \"Tuesday\").\n",
        "                                   Defaults to None.\n",
        "        end_day (str, optional): The ending day string (e.g., \"Monday\", \"Tuesday\").\n",
        "                                 Defaults to None.\n",
        "\n",
        "    Returns:\n",
        "        int: The total number of seconds between the start and end time/day.\n",
        "             Can be negative if the end time/day is before the start time/day.\n",
        "    \"\"\"\n",
        "    day_map = {\n",
        "        'Monday': 0,\n",
        "        'Tuesday': 1,\n",
        "        'Wednesday': 2,\n",
        "        'Thursday': 3,\n",
        "        'Friday': 4,\n",
        "        'Saturday': 5,\n",
        "        'Sunday': 6\n",
        "    }\n",
        "\n",
        "    # Determine the actual start and end days based on default logic\n",
        "    actual_start_day = start_day\n",
        "    actual_end_day = end_day\n",
        "\n",
        "    if actual_start_day is None and actual_end_day is None:\n",
        "        actual_start_day = 'Monday'\n",
        "        actual_end_day = 'Monday'\n",
        "    elif actual_start_day is None:\n",
        "        actual_start_day = actual_end_day\n",
        "    elif actual_end_day is None:\n",
        "        actual_end_day = actual_start_day\n",
        "\n",
        "    start_day_num = day_map.get(actual_start_day, 0)\n",
        "    end_day_num = day_map.get(actual_end_day, 0)\n",
        "\n",
        "    # Create dummy datetimes using a reference date (Oct 23, 2023 was a Monday)\n",
        "    start_dt_str = f'2023-10-{23 + start_day_num:02d} {start_time_str}'\n",
        "    end_dt_str = f'2023-10-{23 + end_day_num:02d} {end_time_str}'\n",
        "\n",
        "    start_dt = datetime.strptime(start_dt_str, '%Y-%m-%d %H:%M:%S')\n",
        "    end_dt = datetime.strptime(end_dt_str, '%Y-%m-%d %H:%M:%S')\n",
        "\n",
        "    time_difference = end_dt - start_dt\n",
        "\n",
        "    return int(time_difference.total_seconds())\n",
        "\n",
        "# Example usage: 12:53:15, Monday - 00:59:25, Tuesday\n",
        "start_time_example = '12:53:15'\n",
        "start_day_example = 'Monday'\n",
        "end_time_example = '00:59:25'\n",
        "end_day_example = 'Tuesday'\n",
        "\n",
        "seconds_diff_example = calculate_seconds_between_with_default_day(start_time_example, end_time_example, start_day_example, end_day_example)\n",
        "print(f\"เวลาที่แตกต่างระหว่าง {start_time_example}, {start_day_example} และ {end_time_example}, {end_day_example} คือ: {seconds_diff_example} วินาที\")\n",
        "\n",
        "# Example usage with only start day provided (end day defaults to start day)\n",
        "start_time_same_day = '10:00:00'\n",
        "end_time_same_day = '11:00:00'\n",
        "start_day_same_day = 'Friday'\n",
        "\n",
        "seconds_diff_same_day = calculate_seconds_between_with_default_day(start_time_same_day, end_time_same_day, start_day=start_day_same_day)\n",
        "print(f\"เวลาที่แตกต่างระหว่าง {start_time_same_day}, {start_day_same_day} และ {end_time_same_day}, วันเดียวกัน คือ: {seconds_diff_same_day} วินาที\")\n",
        "\n",
        "# Example usage with only end day provided (start day defaults to end day)\n",
        "start_time_same_day_2 = '10:00:00'\n",
        "end_time_same_day_2 = '11:00:00'\n",
        "end_day_same_day_2 = 'Saturday'\n",
        "\n",
        "seconds_diff_same_day_2 = calculate_seconds_between_with_default_day(start_time_same_day_2, end_time_same_day_2, end_day=end_day_same_day_2)\n",
        "print(f\"เวลาที่แตกต่างระหว่าง {start_time_same_day_2}, วันเดียวกัน และ {end_time_same_day_2}, {end_day_same_day_2} คือ: {seconds_diff_same_day_2} วินาที\")\n",
        "\n",
        "\n",
        "# Example usage with no day provided (defaults to Monday for both)\n",
        "start_time_no_day = '10:00:00'\n",
        "end_time_no_day = '11:00:00'\n",
        "\n",
        "seconds_diff_no_day = calculate_seconds_between_with_default_day(start_time_no_day, end_time_no_day)\n",
        "print(f\"เวลาที่แตกต่างระหว่าง {start_time_no_day} และ {end_time_no_day} (วันจันทร์ทั้งคู่) คือ: {seconds_diff_no_day} วินาที\")\n"
      ],
      "metadata": {
        "colab": {
          "base_uri": "https://localhost:8080/"
        },
        "id": "OhnB8l88iTCC",
        "outputId": "23eaa745-478c-47ec-fd8c-27192295f923"
      },
      "execution_count": 115,
      "outputs": [
        {
          "output_type": "stream",
          "name": "stdout",
          "text": [
            "เวลาที่แตกต่างระหว่าง 12:53:15, Monday และ 00:59:25, Tuesday คือ: 43570 วินาที\n",
            "เวลาที่แตกต่างระหว่าง 10:00:00, Friday และ 11:00:00, วันเดียวกัน คือ: 3600 วินาที\n",
            "เวลาที่แตกต่างระหว่าง 10:00:00, วันเดียวกัน และ 11:00:00, Saturday คือ: 3600 วินาที\n",
            "เวลาที่แตกต่างระหว่าง 10:00:00 และ 11:00:00 (วันจันทร์ทั้งคู่) คือ: 3600 วินาที\n"
          ]
        }
      ]
    },
    {
      "cell_type": "code",
      "source": [
        "# prompt: เขียน function คำนวณหาวินาที 16:06:09, Sunday - 11:11:11 Tuesday มีการใช้ default โดยถ้ากรอกวันเดียวกันให้ไม่ต้องกรอกเลยหรือกรอกแค1ตัว\n",
        "\n",
        "def calculate_seconds_between_flex(start_info, end_info=None):\n",
        "    \"\"\"\n",
        "    Calculates the number of seconds between two times on potentially different days\n",
        "    with flexible input for start and end information.\n",
        "\n",
        "    Args:\n",
        "        start_info (str): A string containing start time and optionally start day.\n",
        "                          Format: \"HH:MM:SS, DayName\" or \"HH:MM:SS\"\n",
        "        end_info (str, optional): A string containing end time and optionally end day.\n",
        "                                  Format: \"HH:MM:SS, DayName\" or \"HH:MM:SS\"\n",
        "                                  Defaults to None, implying end time/day is the same as start.\n",
        "\n",
        "    Returns:\n",
        "        int: The total number of seconds between the start and end time/day (non-negative).\n",
        "    \"\"\"\n",
        "    day_map = {\n",
        "        'Monday': 0,\n",
        "        'Tuesday': 1,\n",
        "        'Wednesday': 2,\n",
        "        'Thursday': 3,\n",
        "        'Friday': 4,\n",
        "        'Saturday': 5,\n",
        "        'Sunday': 6\n",
        "    }\n",
        "\n",
        "    def parse_time_day(info_str):\n",
        "        parts = info_str.split(',')\n",
        "        time_str = parts[0].strip()\n",
        "        day_str = parts[1].strip() if len(parts) > 1 else None\n",
        "        return time_str, day_str\n",
        "\n",
        "    start_time_str, start_day_str = parse_time_day(start_info)\n",
        "\n",
        "    if end_info is None:\n",
        "        end_time_str = start_time_str\n",
        "        end_day_str = start_day_str\n",
        "    else:\n",
        "        end_time_str, end_day_str = parse_time_day(end_info)\n",
        "        # If end_day is not provided, assume it's the same as start_day\n",
        "        if end_day_str is None:\n",
        "             end_day_str = start_day_str\n",
        "\n",
        "\n",
        "    # Handle cases where day is not provided for start or end (assume Monday if not specified)\n",
        "    start_day_str = start_day_str if start_day_str is not None else 'Monday'\n",
        "    end_day_str = end_day_str if end_day_str is not None else 'Monday'\n",
        "\n",
        "\n",
        "    start_day_num = day_map.get(start_day_str.capitalize(), 0) # Use capitalize for case-insensitivity\n",
        "    end_day_num = day_map.get(end_day_str.capitalize(), 0)\n",
        "\n",
        "    # Create dummy datetimes to calculate difference\n",
        "    # We use day numbers to handle crossing midnight and days.\n",
        "    # The specific date (year, month, day) doesn't matter as long as the day difference is correct.\n",
        "    # Let's use a fixed reference date like 2023-10-23 for Monday (day 0)\n",
        "    start_dt_str = f'2023-10-{23 + start_day_num:02d} {start_time_str}'\n",
        "    end_dt_str = f'2023-10-{23 + end_day_num:02d} {end_time_str}'\n",
        "\n",
        "    start_dt = datetime.strptime(start_dt_str, '%Y-%m-%d %H:%M:%S')\n",
        "    end_dt = datetime.strptime(end_dt_str, '%Y-%m-%d %H:%M:%S')\n",
        "\n",
        "    time_difference = end_dt - start_dt\n",
        "\n",
        "    # If the difference is negative (end time is before start time within the week)\n",
        "    # add a week's worth of seconds to make it positive.\n",
        "    if time_difference.total_seconds() < 0:\n",
        "        time_difference += timedelta(days=7)\n",
        "\n",
        "    return int(time_difference.total_seconds())\n",
        "\n",
        "# Example usage: 16:06:09, Sunday - 11:11:11 Tuesday\n",
        "start_time_sunday = '16:06:09, Sunday'\n",
        "end_time_tuesday = '11:11:11, Tuesday'\n",
        "\n",
        "seconds_diff_example_2 = calculate_seconds_between_flex(start_time_sunday, end_time_tuesday)\n",
        "print(f\"เวลาที่แตกต่างระหว่าง {start_time_sunday} และ {end_time_tuesday} คือ: {seconds_diff_example_2} วินาที\")\n",
        "\n",
        "# Example usage: same day, only times provided\n",
        "print(f\"เวลาที่แตกต่างระหว่าง 12:00:00 และ 13:00:00 (วันเดียวกัน) คือ: {calculate_seconds_between_flex('12:00:00', '13:00:00')} วินาที\")\n",
        "\n",
        "# Example usage with same day, only start time provided (calculates difference between start and start - should be 0)\n",
        "print(f\"เวลาที่แตกต่างระหว่าง 12:00:00 และ 12:00:00 (วันเดียวกัน) คือ: {calculate_seconds_between_flex('12:00:00')} วินาที\")\n",
        "\n",
        "# Example usage with same day and time\n",
        "print(f\"เวลาที่แตกต่างระหว่าง 10:00:00, Wednesday และ 10:00:00, Wednesday คือ: {calculate_seconds_between_flex('10:00:00, Wednesday', '10:00:00, Wednesday')} วินาที\")\n",
        "\n",
        "# Example usage with different day, end day provided, start day not provided (defaults to Monday)\n",
        "print(f\"เวลาที่แตกต่างระหว่าง 10:00:00 (วันจันทร์) และ 11:00:00, Tuesday คือ: {calculate_seconds_between_flex('10:00:00', '11:00:00, Tuesday')} วินาที\")\n",
        "\n",
        "# Example usage with different day, start day provided, end day not provided (defaults to start day)\n",
        "print(f\"เวลาที่แตกต่างระหว่าง 10:00:00, Thursday และ 11:00:00 (วันเดียวกัน) คือ: {calculate_seconds_between_flex('10:00:00, Thursday', '11:00:00')} วินาที\")\n"
      ],
      "metadata": {
        "colab": {
          "base_uri": "https://localhost:8080/"
        },
        "id": "hNszE976hOUS",
        "outputId": "72e9d447-c5c9-4ad9-a2e6-c27e9dd99311"
      },
      "execution_count": 113,
      "outputs": [
        {
          "output_type": "stream",
          "name": "stdout",
          "text": [
            "เวลาที่แตกต่างระหว่าง 16:06:09, Sunday และ 11:11:11, Tuesday คือ: 155102 วินาที\n",
            "เวลาที่แตกต่างระหว่าง 12:00:00 และ 13:00:00 (วันเดียวกัน) คือ: 3600 วินาที\n",
            "เวลาที่แตกต่างระหว่าง 12:00:00 และ 12:00:00 (วันเดียวกัน) คือ: 0 วินาที\n",
            "เวลาที่แตกต่างระหว่าง 10:00:00, Wednesday และ 10:00:00, Wednesday คือ: 0 วินาที\n",
            "เวลาที่แตกต่างระหว่าง 10:00:00 (วันจันทร์) และ 11:00:00, Tuesday คือ: 90000 วินาที\n",
            "เวลาที่แตกต่างระหว่าง 10:00:00, Thursday และ 11:00:00 (วันเดียวกัน) คือ: 3600 วินาที\n"
          ]
        }
      ]
    },
    {
      "cell_type": "code",
      "source": [
        "print('abc', 'def')"
      ],
      "metadata": {
        "colab": {
          "base_uri": "https://localhost:8080/"
        },
        "id": "FJ8OzchWkIJa",
        "outputId": "7d42af84-1359-4017-b983-7472cff6cb61"
      },
      "execution_count": 116,
      "outputs": [
        {
          "output_type": "stream",
          "name": "stdout",
          "text": [
            "abc def\n"
          ]
        }
      ]
    },
    {
      "cell_type": "markdown",
      "source": [
        "# Quiz3.5\n",
        "\n",
        "รับ input 2 ตัว โดยตั้งค่า default time1 เป็น 00:00:00"
      ],
      "metadata": {
        "id": "GMMe5F1zgNV5"
      }
    },
    {
      "cell_type": "code",
      "source": [],
      "metadata": {
        "id": "5MU_CGWhkHOD"
      },
      "execution_count": null,
      "outputs": []
    },
    {
      "cell_type": "markdown",
      "source": [
        "## HW2\n",
        "\n",
        "วนลูป หา ช่วงเวลาเป็นวินาที ที่ห่างกันระหว่า time1 และ time2 ต่อไปนี้\n",
        "\n",
        "\n",
        "1. 18:09:10 - 18:25:10\n",
        "2. 13:38:39 - 23:54:39\n",
        "3. 16:49:58 - 18:05:58\n",
        "4. 21:49:10 - 22:24:10\n",
        "5. 08:52:21 - 09:25:21\n",
        "6. 06:56:26 - 07:49:26\n",
        "7. 12:08:05 - 12:43:05\n",
        "8. 01:48:38 - 07:18:38\n",
        "9. 08:51:21 - 10:17:21\n",
        "10. 17:05:17 - 18:09:17"
      ],
      "metadata": {
        "id": "Y60TMz5ijb_S"
      }
    },
    {
      "cell_type": "markdown",
      "metadata": {
        "id": "UB5fTAr3bPqg"
      },
      "source": [
        "# LOOP การวนซ้ำ"
      ]
    },
    {
      "cell_type": "markdown",
      "metadata": {
        "id": "gpIwjDjg0gfJ"
      },
      "source": [
        "for เป็นคำที่ใช้บอก python ว่าเรากำลังเขียน loop\n",
        "โดย for จะวนดึงสมาชิกจาก ```listA``` มาทำ process ```do_something```"
      ]
    },
    {
      "cell_type": "markdown",
      "metadata": {
        "id": "6XS2wO4_bPqg"
      },
      "source": [
        "```python\n",
        "    for each_member in listA :\n",
        "        do_something\n",
        "```"
      ]
    },
    {
      "cell_type": "markdown",
      "metadata": {
        "id": "d7kQ2AEcbPqg"
      },
      "source": [
        "#### คำสั่ง for เป็นคำสั่งวนซ้ำที่ใช้ควบคุมการทำงานซ้ำๆ ในจำนวนรอบที่แน่นอน"
      ]
    },
    {
      "cell_type": "code",
      "metadata": {
        "colab": {
          "base_uri": "https://localhost:8080/"
        },
        "id": "NcT-s7TEbPqg",
        "outputId": "12a14bbe-f3ff-42c8-bbb3-6f9a0f6097f8"
      },
      "source": [
        "for i in [1,2,3] :\n",
        "    o = i**2\n",
        "    print (f'this member = {i} after process = {o}')"
      ],
      "execution_count": null,
      "outputs": [
        {
          "output_type": "stream",
          "name": "stdout",
          "text": [
            "this member = 1 after process = 1\n",
            "this member = 2 after process = 4\n",
            "this member = 3 after process = 9\n"
          ]
        }
      ]
    },
    {
      "cell_type": "markdown",
      "metadata": {
        "id": "YbnFaiU2bPqg"
      },
      "source": [
        "#### ตัวอย่างการใช้คำสั่ง for ในการวนซ้ำค่าของ i เมื่อ i คือ 'Thanapong' และคำสั่ง print(f'{i} -> /') เพื่อกำหนดให้ผลลัพธ์แสดงสัญลักษณ์ -> /  จากนั้นเพิ่มคำสั่ง print(' ') อีกครั้งเพื่อให้ผลลัพธ์มีการเว้นวรรค¶"
      ]
    },
    {
      "cell_type": "code",
      "metadata": {
        "id": "kstoI_CEbPqh",
        "outputId": "1f66fa4a-09f2-44e8-89e0-299a9388f0c1",
        "colab": {
          "base_uri": "https://localhost:8080/"
        }
      },
      "source": [
        "for i in 'Thanapong':\n",
        "    print(f'{i} -> / ' )"
      ],
      "execution_count": null,
      "outputs": [
        {
          "output_type": "stream",
          "name": "stdout",
          "text": [
            "T -> / \n",
            "h -> / \n",
            "a -> / \n",
            "n -> / \n",
            "a -> / \n",
            "p -> / \n",
            "o -> / \n",
            "n -> / \n",
            "g -> / \n"
          ]
        }
      ]
    },
    {
      "cell_type": "code",
      "metadata": {
        "id": "mQmh0Ip-V8qR",
        "outputId": "0e01aa3e-f288-4865-d65d-2f2711066413",
        "colab": {
          "base_uri": "https://localhost:8080/"
        }
      },
      "source": [
        "for i in 'Thanapong':\n",
        "    print(f'{i} -> / ' ,end = '') #สั่งให้ print แบบ ไม่เว้นบรรทัด"
      ],
      "execution_count": null,
      "outputs": [
        {
          "output_type": "stream",
          "name": "stdout",
          "text": [
            "T -> / h -> / a -> / n -> / a -> / p -> / o -> / n -> / g -> / "
          ]
        }
      ]
    },
    {
      "cell_type": "markdown",
      "metadata": {
        "id": "3_I0IHOqXMIr"
      },
      "source": [
        "## สร้าง list ตัวเลขแบบอัตโนมัติ  range()"
      ]
    },
    {
      "cell_type": "code",
      "metadata": {
        "id": "ensAuLXBW-0P",
        "outputId": "e73e37e9-cdcf-47c4-f47a-765e7188860c",
        "colab": {
          "base_uri": "https://localhost:8080/"
        }
      },
      "source": [
        "range5_output = range(5)\n",
        "print(list(range5_output))"
      ],
      "execution_count": null,
      "outputs": [
        {
          "output_type": "stream",
          "name": "stdout",
          "text": [
            "[0, 1, 2, 3, 4]\n"
          ]
        }
      ]
    },
    {
      "cell_type": "code",
      "metadata": {
        "id": "r8JXggPKXrEx",
        "outputId": "bcb4fe84-093e-4623-d62c-2c227d1cceec",
        "colab": {
          "base_uri": "https://localhost:8080/"
        }
      },
      "source": [
        "for i in range(100):\n",
        "    print('งง',end=' ')"
      ],
      "execution_count": null,
      "outputs": [
        {
          "output_type": "stream",
          "name": "stdout",
          "text": [
            "งง งง งง งง งง งง งง งง งง งง งง งง งง งง งง งง งง งง งง งง งง งง งง งง งง งง งง งง งง งง งง งง งง งง งง งง งง งง งง งง งง งง งง งง งง งง งง งง งง งง งง งง งง งง งง งง งง งง งง งง งง งง งง งง งง งง งง งง งง งง งง งง งง งง งง งง งง งง งง งง งง งง งง งง งง งง งง งง งง งง งง งง งง งง งง งง งง งง งง งง "
          ]
        }
      ]
    },
    {
      "cell_type": "code",
      "metadata": {
        "id": "RLvhNqw8YpKa",
        "outputId": "19ae69a5-474b-4d30-f4ce-bdeddf084c71",
        "colab": {
          "base_uri": "https://localhost:8080/"
        }
      },
      "source": [
        "list(range(1,11)) #เริ่มต้นเป็นวงทึบ จบเป็นวงกลมโปร่ง เหมือน list slicing"
      ],
      "execution_count": null,
      "outputs": [
        {
          "output_type": "execute_result",
          "data": {
            "text/plain": [
              "[1, 2, 3, 4, 5, 6, 7, 8, 9, 10]"
            ]
          },
          "metadata": {},
          "execution_count": 27
        }
      ]
    },
    {
      "cell_type": "code",
      "metadata": {
        "id": "MqXQ9NLGcW-r",
        "outputId": "ab839a9f-525a-40d4-b7d1-4b8f0d4de3a7",
        "colab": {
          "base_uri": "https://localhost:8080/"
        }
      },
      "source": [
        "list(range(-3,20,4))"
      ],
      "execution_count": null,
      "outputs": [
        {
          "output_type": "execute_result",
          "data": {
            "text/plain": [
              "[-3, 1, 5, 9, 13, 17]"
            ]
          },
          "metadata": {},
          "execution_count": 28
        }
      ]
    },
    {
      "cell_type": "markdown",
      "metadata": {
        "id": "vPcR4tJebPqi"
      },
      "source": [
        "### loop in loop\n",
        "#### สามารถใช้ for loop ซ้อนกันสองรอบได้¶"
      ]
    },
    {
      "cell_type": "code",
      "metadata": {
        "id": "TKRcpd5DbPqi",
        "outputId": "b18bd9af-fe48-4979-ba91-f8faf2a8787a",
        "colab": {
          "base_uri": "https://localhost:8080/"
        }
      },
      "source": [
        "for name1 in  range(2,5): #(2, 3, 4)\n",
        "    print(f'now name1 = {name1}')\n",
        "    for name2 in  range(1,13):\n",
        "        print('  ', name1,' x ',name2,' = ',name1*name2)\n",
        "    print('the inner loop is end')"
      ],
      "execution_count": null,
      "outputs": [
        {
          "output_type": "stream",
          "name": "stdout",
          "text": [
            "now name1 = 2\n",
            "   2  x  1  =  2\n",
            "   2  x  2  =  4\n",
            "   2  x  3  =  6\n",
            "   2  x  4  =  8\n",
            "   2  x  5  =  10\n",
            "   2  x  6  =  12\n",
            "   2  x  7  =  14\n",
            "   2  x  8  =  16\n",
            "   2  x  9  =  18\n",
            "   2  x  10  =  20\n",
            "   2  x  11  =  22\n",
            "   2  x  12  =  24\n",
            "the inner loop is end\n",
            "now name1 = 3\n",
            "   3  x  1  =  3\n",
            "   3  x  2  =  6\n",
            "   3  x  3  =  9\n",
            "   3  x  4  =  12\n",
            "   3  x  5  =  15\n",
            "   3  x  6  =  18\n",
            "   3  x  7  =  21\n",
            "   3  x  8  =  24\n",
            "   3  x  9  =  27\n",
            "   3  x  10  =  30\n",
            "   3  x  11  =  33\n",
            "   3  x  12  =  36\n",
            "the inner loop is end\n",
            "now name1 = 4\n",
            "   4  x  1  =  4\n",
            "   4  x  2  =  8\n",
            "   4  x  3  =  12\n",
            "   4  x  4  =  16\n",
            "   4  x  5  =  20\n",
            "   4  x  6  =  24\n",
            "   4  x  7  =  28\n",
            "   4  x  8  =  32\n",
            "   4  x  9  =  36\n",
            "   4  x  10  =  40\n",
            "   4  x  11  =  44\n",
            "   4  x  12  =  48\n",
            "the inner loop is end\n"
          ]
        }
      ]
    },
    {
      "cell_type": "markdown",
      "metadata": {
        "id": "7-FAZit8bPqi"
      },
      "source": [
        "### loop in function\n",
        "#### การวนลูปในฟังก์ชั่น¶"
      ]
    },
    {
      "cell_type": "code",
      "metadata": {
        "id": "S0r5yhbDbPqi"
      },
      "source": [
        "def print_feelings(I,friendS,feeling = 'คิดถึง'):\n",
        "    for friend in friendS:\n",
        "        print(f'{I} {feeling} {friend}')"
      ],
      "execution_count": null,
      "outputs": []
    },
    {
      "cell_type": "code",
      "metadata": {
        "id": "_oVKj4SRfGS6"
      },
      "source": [
        "list_friends = ['พี่บูม','ดายน์','แตงโม','ฝน','พี่เจ็ท','น้องแคมป์']"
      ],
      "execution_count": null,
      "outputs": []
    },
    {
      "cell_type": "code",
      "metadata": {
        "id": "RepVZqu6bPqi",
        "outputId": "3153d88c-bb4e-44af-e3e8-1944d1a7d788",
        "colab": {
          "base_uri": "https://localhost:8080/"
        }
      },
      "source": [
        "print_feelings('เจมส์',list_friends)"
      ],
      "execution_count": null,
      "outputs": [
        {
          "output_type": "stream",
          "name": "stdout",
          "text": [
            "เจมส์ คิดถึง พี่บูม\n",
            "เจมส์ คิดถึง ดายน์\n",
            "เจมส์ คิดถึง แตงโม\n",
            "เจมส์ คิดถึง ฝน\n",
            "เจมส์ คิดถึง พี่เจ็ท\n",
            "เจมส์ คิดถึง น้องแคมป์\n"
          ]
        }
      ]
    },
    {
      "cell_type": "code",
      "metadata": {
        "id": "P20pDnVaf2vK",
        "outputId": "cb59f42c-9fb9-4d1b-8b99-58294130d44d",
        "colab": {
          "base_uri": "https://localhost:8080/"
        }
      },
      "source": [
        "print_feelings('เจมส์',list_friends,feeling='รัก')"
      ],
      "execution_count": null,
      "outputs": [
        {
          "output_type": "stream",
          "name": "stdout",
          "text": [
            "เจมส์ รัก พี่บูม\n",
            "เจมส์ รัก ดายน์\n",
            "เจมส์ รัก แตงโม\n",
            "เจมส์ รัก ฝน\n",
            "เจมส์ รัก พี่เจ็ท\n",
            "เจมส์ รัก น้องแคมป์\n"
          ]
        }
      ]
    },
    {
      "cell_type": "code",
      "metadata": {
        "id": "SzHamL8JhKG4",
        "outputId": "19fac0b6-f144-486a-8200-8e246090c9d1",
        "colab": {
          "base_uri": "https://localhost:8080/"
        }
      },
      "source": [
        "print_feelings('เจมส์',list_friends,'รัก')"
      ],
      "execution_count": null,
      "outputs": [
        {
          "output_type": "stream",
          "name": "stdout",
          "text": [
            "เจมส์ รัก พี่บูม\n",
            "เจมส์ รัก ดายน์\n",
            "เจมส์ รัก แตงโม\n",
            "เจมส์ รัก ฝน\n",
            "เจมส์ รัก พี่เจ็ท\n",
            "เจมส์ รัก น้องแคมป์\n"
          ]
        }
      ]
    },
    {
      "cell_type": "markdown",
      "source": [
        "จบ 24 มิย 67"
      ],
      "metadata": {
        "id": "GJAB4hnvnAX8"
      }
    },
    {
      "cell_type": "markdown",
      "source": [
        "## Dictionary (Data Structure)\n",
        "\n",
        "โครงสร้างข้อมูลที่จัดเก็บข้อมูลโดยการอ้างอิงโดย text\n",
        "\n",
        "วงเล็บ ```{``` ```}``` Curly Brackets"
      ],
      "metadata": {
        "id": "VreW55vmVRcb"
      }
    },
    {
      "cell_type": "code",
      "source": [
        "Ex_dict_A = {'memberA':[1,2,3],'memberB':8,'memberC':'abc'}"
      ],
      "metadata": {
        "id": "i-oH98ilV1RV"
      },
      "execution_count": null,
      "outputs": []
    },
    {
      "cell_type": "code",
      "source": [
        "Ex_dict_A"
      ],
      "metadata": {
        "colab": {
          "base_uri": "https://localhost:8080/"
        },
        "id": "kIwdnWuqWr58",
        "outputId": "694d94ad-5ac6-47a8-e6d6-01f62d578d9b"
      },
      "execution_count": null,
      "outputs": [
        {
          "output_type": "execute_result",
          "data": {
            "text/plain": [
              "{'memberA': [1, 2, 3], 'memberB': 8, 'memberC': 'abc'}"
            ]
          },
          "metadata": {},
          "execution_count": 2
        }
      ]
    },
    {
      "cell_type": "code",
      "source": [
        "Ex_dict_A['memberA']"
      ],
      "metadata": {
        "colab": {
          "base_uri": "https://localhost:8080/"
        },
        "id": "J4yy6oaXW4he",
        "outputId": "153013bf-f9bd-4cd9-a182-bf13744d02c7"
      },
      "execution_count": null,
      "outputs": [
        {
          "output_type": "execute_result",
          "data": {
            "text/plain": [
              "[1, 2, 3]"
            ]
          },
          "metadata": {},
          "execution_count": 5
        }
      ]
    },
    {
      "cell_type": "code",
      "source": [
        "Ex_dict_A['memberA'][1]"
      ],
      "metadata": {
        "colab": {
          "base_uri": "https://localhost:8080/"
        },
        "id": "cZjtUbdnXZK-",
        "outputId": "0eaa0d49-1a2a-41d6-bb62-7c3252df977f"
      },
      "execution_count": null,
      "outputs": [
        {
          "output_type": "execute_result",
          "data": {
            "text/plain": [
              "2"
            ]
          },
          "metadata": {},
          "execution_count": 6
        }
      ]
    },
    {
      "cell_type": "markdown",
      "metadata": {
        "id": "vwK7RmRJbPqj"
      },
      "source": [
        "### looping in dict\n",
        "#### ทำการวนลูปในค่า dict โดยที่เรากำหนดตัว key และvalueขึ้นมา ได้ดังนี้\n"
      ]
    },
    {
      "cell_type": "code",
      "metadata": {
        "id": "HI0F-4HobPqj",
        "outputId": "f5dff6b6-6102-4445-cc19-4574cf6790b2",
        "colab": {
          "base_uri": "https://localhost:8080/"
        }
      },
      "source": [
        "name_grade = {'พันทิพา' : 'B','ศุภนิตา' : 'C','ปนัดดา' : 'A','ทรงกลด' : 'F'}\n",
        "name_grade"
      ],
      "execution_count": null,
      "outputs": [
        {
          "output_type": "execute_result",
          "data": {
            "text/plain": [
              "{'พันทิพา': 'B', 'ศุภนิตา': 'C', 'ปนัดดา': 'A', 'ทรงกลด': 'F'}"
            ]
          },
          "metadata": {},
          "execution_count": 7
        }
      ]
    },
    {
      "cell_type": "code",
      "metadata": {
        "id": "jWf8aBmpbPqj",
        "outputId": "d19b353a-86f8-4dcc-e1d5-a5a0d233c332",
        "colab": {
          "base_uri": "https://localhost:8080/",
          "height": 56
        }
      },
      "source": [
        "name_grade['ปนัดดา']"
      ],
      "execution_count": null,
      "outputs": [
        {
          "output_type": "execute_result",
          "data": {
            "text/plain": [
              "'A'"
            ],
            "application/vnd.google.colaboratory.intrinsic+json": {
              "type": "string"
            }
          },
          "metadata": {},
          "execution_count": 8
        }
      ]
    },
    {
      "cell_type": "code",
      "source": [
        "name_grade.keys()"
      ],
      "metadata": {
        "colab": {
          "base_uri": "https://localhost:8080/"
        },
        "id": "0tXZc6kgYPgm",
        "outputId": "13096d92-02b7-4de1-9845-3552562916b2"
      },
      "execution_count": null,
      "outputs": [
        {
          "output_type": "execute_result",
          "data": {
            "text/plain": [
              "dict_keys(['พันทิพา', 'ศุภนิตา', 'ปนัดดา', 'ทรงกลด'])"
            ]
          },
          "metadata": {},
          "execution_count": 9
        }
      ]
    },
    {
      "cell_type": "code",
      "source": [
        "name_grade.values()"
      ],
      "metadata": {
        "colab": {
          "base_uri": "https://localhost:8080/"
        },
        "id": "zEqstk33YRxp",
        "outputId": "e01dc8af-865a-4ba3-809c-370371d8409e"
      },
      "execution_count": null,
      "outputs": [
        {
          "output_type": "execute_result",
          "data": {
            "text/plain": [
              "dict_values(['B', 'C', 'A', 'F'])"
            ]
          },
          "metadata": {},
          "execution_count": 10
        }
      ]
    },
    {
      "cell_type": "code",
      "metadata": {
        "scrolled": true,
        "id": "eDqhoebhbPqj",
        "outputId": "e3bed2bc-662c-4001-c6af-548dd9b7f0fc",
        "colab": {
          "base_uri": "https://localhost:8080/"
        }
      },
      "source": [
        "for i in name_grade.keys():\n",
        "    print(i)"
      ],
      "execution_count": null,
      "outputs": [
        {
          "output_type": "stream",
          "name": "stdout",
          "text": [
            "พันทิพา\n",
            "ศุภนิตา\n",
            "ปนัดดา\n",
            "ทรงกลด\n"
          ]
        }
      ]
    },
    {
      "cell_type": "code",
      "metadata": {
        "id": "Imvq4faObPqj",
        "outputId": "4debf4e7-78ed-431a-8b4a-61f4500d39a8",
        "colab": {
          "base_uri": "https://localhost:8080/"
        }
      },
      "source": [
        "for i in name_grade.keys():\n",
        "    print(f'{i} ได้เกรด {name_grade[i]}')"
      ],
      "execution_count": null,
      "outputs": [
        {
          "output_type": "stream",
          "name": "stdout",
          "text": [
            "พันทิพา ได้เกรด B\n",
            "ศุภนิตา ได้เกรด C\n",
            "ปนัดดา ได้เกรด A\n",
            "ทรงกลด ได้เกรด F\n"
          ]
        }
      ]
    },
    {
      "cell_type": "markdown",
      "source": [
        "## HW2 Example"
      ],
      "metadata": {
        "id": "CrnK1_WPaYv7"
      }
    },
    {
      "cell_type": "code",
      "source": [
        "time_list =  [\n",
        "    [\"18:09:10\", \"18:25:10\"],\n",
        "    [\"13:38:39\", \"23:54:39\"],\n",
        "    [\"16:49:58\", \"18:05:58\"],\n",
        "    [\"21:49:10\", \"22:24:10\"],\n",
        "    [\"08:52:21\", \"09:25:21\"],\n",
        "    [\"06:56:26\", \"07:49:26\"],\n",
        "    [\"12:08:05\", \"12:43:05\"],\n",
        "    [\"01:48:38\", \"07:18:38\"],\n",
        "    [\"08:51:21\", \"10:17:21\"],\n",
        "    [\"17:05:17\", \"18:09:17\"]]\n",
        "\n",
        "def time_to_second(time1,time2):\n",
        "    time1_list = time1.split(':')\n",
        "    time2_list = time2.split(':')\n",
        "    time1_sec = int(time1_list[0])*3600 + int(time1_list[1])*60 + int(time1_list[2])\n",
        "    time2_sec = int(time2_list[0])*3600 + int(time2_list[1])*60 + int(time2_list[2])\n",
        "    return(time2_sec - time1_sec)\n",
        "\n",
        "for time1,time2 in time_list:\n",
        "  diff_seconds = time_to_second(time1,time2)\n",
        "  print(f\"Time difference between {time1} - {time2} is {diff_seconds} seconds\")"
      ],
      "metadata": {
        "colab": {
          "base_uri": "https://localhost:8080/"
        },
        "id": "BqYhLFc5aYa2",
        "outputId": "825e1a7c-f359-44cc-9e02-160670dc983c"
      },
      "execution_count": null,
      "outputs": [
        {
          "output_type": "stream",
          "name": "stdout",
          "text": [
            "Time difference between 18:09:10 - 18:25:10 is 960 seconds\n",
            "Time difference between 13:38:39 - 23:54:39 is 36960 seconds\n",
            "Time difference between 16:49:58 - 18:05:58 is 4560 seconds\n",
            "Time difference between 21:49:10 - 22:24:10 is 2100 seconds\n",
            "Time difference between 08:52:21 - 09:25:21 is 1980 seconds\n",
            "Time difference between 06:56:26 - 07:49:26 is 3180 seconds\n",
            "Time difference between 12:08:05 - 12:43:05 is 2100 seconds\n",
            "Time difference between 01:48:38 - 07:18:38 is 19800 seconds\n",
            "Time difference between 08:51:21 - 10:17:21 is 5160 seconds\n",
            "Time difference between 17:05:17 - 18:09:17 is 3840 seconds\n"
          ]
        }
      ]
    },
    {
      "cell_type": "code",
      "source": [
        "time1 = \"18:09:10\"\n",
        "time2 = \"00:25:10\"\n",
        "diff_seconds = time_to_second(time1,time2)\n",
        "print(f\"Time difference between {time1} - {time2} is {diff_seconds} seconds\")"
      ],
      "metadata": {
        "colab": {
          "base_uri": "https://localhost:8080/"
        },
        "id": "lbz-CNPlbGYq",
        "outputId": "31befb8b-40ae-47b0-876d-a94e7ecfe760"
      },
      "execution_count": null,
      "outputs": [
        {
          "output_type": "stream",
          "name": "stdout",
          "text": [
            "Time difference between 18:09:10 - 00:25:10 is -63840 seconds\n"
          ]
        }
      ]
    },
    {
      "cell_type": "markdown",
      "metadata": {
        "id": "pLDGW8IobPqk"
      },
      "source": [
        "# Conditional statemet คือ ประโยคเงื่อนไข"
      ]
    },
    {
      "cell_type": "markdown",
      "source": [
        "ชนิดตัวแปรที่เกี่ยวข้อ Boolean (True,False)"
      ],
      "metadata": {
        "id": "TvK12jMwcVp8"
      }
    },
    {
      "cell_type": "code",
      "source": [
        "condition_1 = True\n",
        "condition_2 = False"
      ],
      "metadata": {
        "id": "JWxlKa-icUk6"
      },
      "execution_count": null,
      "outputs": []
    },
    {
      "cell_type": "markdown",
      "metadata": {
        "id": "8_-zCLkrbPqk"
      },
      "source": [
        "### การวนลูปโดยมีเงื่อนไขต่างๆมาเกี่ยวข้อง โดยมี pattern ดังนี้\n"
      ]
    },
    {
      "cell_type": "markdown",
      "metadata": {
        "id": "ZQuWb-bybPqk"
      },
      "source": [
        "```Python\n",
        "if condition1 :\n",
        "    do something\n",
        "elif condition2 :  #elif คือ else if\n",
        "    do another thing\n",
        "else:\n",
        "    do ...\n",
        "```\n",
        "    "
      ]
    },
    {
      "cell_type": "markdown",
      "metadata": {
        "id": "kUPdCRG7bPqk"
      },
      "source": [
        "## ==, !=,>=,<=,<,> Operator ของตัวเลข"
      ]
    },
    {
      "cell_type": "code",
      "source": [
        "def time_to_second(time1):\n",
        "    time1_list = time1.split(':')\n",
        "    time1_sec = int(time1_list[0])*3600 + int(time1_list[1])*60 + int(time1_list[2])\n",
        "    return time1_sec"
      ],
      "metadata": {
        "id": "9NIOIupSd_Zn"
      },
      "execution_count": null,
      "outputs": []
    },
    {
      "cell_type": "code",
      "source": [
        "time_list =  [\n",
        "    [\"18:09:10\", \"18:25:10\"],\n",
        "    [\"13:38:39\", \"23:54:39\"],[\"16:49:58\", \"18:05:58\"],\n",
        "    [\"21:49:10\", \"22:24:10\"],[\"08:52:21\", \"09:25:21\"],\n",
        "    [\"06:56:26\", \"07:49:26\"],[\"12:08:05\", \"12:43:05\"],\n",
        "    [\"01:48:38\", \"07:18:38\"],[\"08:51:21\", \"10:17:21\"],\n",
        "    [\"17:05:17\", \"18:09:17\"],[\"18:51:21\", \"00:17:21\"],\n",
        "    [\"17:05:17\", \"11:09:17\"],]"
      ],
      "metadata": {
        "id": "CYcYQJ45d8Wx"
      },
      "execution_count": null,
      "outputs": []
    },
    {
      "cell_type": "code",
      "source": [
        "for time1,time2 in time_list:\n",
        "\n",
        "    if time_to_second(time1) < time_to_second(time2): #ถ้า time1 น้อยกว่า time2\n",
        "        diff_seconds = time_to_second(time2) - time_to_second(time1)\n",
        "    else: #ถ้า time1 ไม่น้อยกว่า time2\n",
        "        diff_seconds = (time_to_second(time2)+(24*60*60)) - time_to_second(time1)\n",
        "\n",
        "    print(f\"Time difference between {time1} - {time2} is {diff_seconds} seconds\")"
      ],
      "metadata": {
        "colab": {
          "base_uri": "https://localhost:8080/"
        },
        "id": "sv-1il2_dmvv",
        "outputId": "50f45721-6ca1-4fc0-f786-ec748affb410"
      },
      "execution_count": null,
      "outputs": [
        {
          "output_type": "stream",
          "name": "stdout",
          "text": [
            "Time difference between 18:09:10 - 18:25:10 is 960 seconds\n",
            "Time difference between 13:38:39 - 23:54:39 is 36960 seconds\n",
            "Time difference between 16:49:58 - 18:05:58 is 4560 seconds\n",
            "Time difference between 21:49:10 - 22:24:10 is 2100 seconds\n",
            "Time difference between 08:52:21 - 09:25:21 is 1980 seconds\n",
            "Time difference between 06:56:26 - 07:49:26 is 3180 seconds\n",
            "Time difference between 12:08:05 - 12:43:05 is 2100 seconds\n",
            "Time difference between 01:48:38 - 07:18:38 is 19800 seconds\n",
            "Time difference between 08:51:21 - 10:17:21 is 5160 seconds\n",
            "Time difference between 17:05:17 - 18:09:17 is 3840 seconds\n",
            "Time difference between 18:51:21 - 00:17:21 is 19560 seconds\n",
            "Time difference between 17:05:17 - 11:09:17 is 65040 seconds\n"
          ]
        }
      ]
    },
    {
      "cell_type": "markdown",
      "source": [
        "# HW3 เพิ่ม ฟังก์ชั่นแปลงวินาทีกลับมาเป็น ชั่วโมง นาที วินาที โดยไม่ใช่ฟังก์ชั่นช่วยเหลืออื่นๆของ python (~~import~~) ถ้าส่วนของ ชั่วโมง นาที วินาที เป็นศูนย์ ไม่ต้องแสดง"
      ],
      "metadata": {
        "id": "JMvgwO7tgxSZ"
      }
    },
    {
      "cell_type": "markdown",
      "metadata": {
        "id": "sSySEFHNbPql"
      },
      "source": [
        "# HW 4\n",
        "#### เขียน function ตัดเกรด โดยที่ input เป็นคะแนน(0-100) , output เป็นเกรด (F-A)\n",
        "#### วนลูปตัดเกรด input = [1,50,65,90,101,-5,49]"
      ]
    },
    {
      "cell_type": "markdown",
      "metadata": {
        "id": "c3TDhZHzbPqm"
      },
      "source": [
        "##### กำหนด\n",
        "      ถ้าคะแนนอยู่ระหว่างมากกว่าหรือเท่ากับ  0  แต่น้อยกว่า 50 จะได้เกรด F\n",
        "      ถ้าคะแนนอยู่ระหว่างมากกว่าหรือเท่ากับ 50 แต่น้อยกว่า 55 จะได้เกรด D\n",
        "      ถ้าคะแนนอยู่ระหว่างมากกว่าหรือเท่ากับ 55 แต่น้อยกว่า 60 จะได้เกรด D+\n",
        "      ถ้าคะแนนอยู่ระหว่างมากกว่าหรือเท่ากับ 60 แต่น้อยกว่า 65 จะได้เกรด C\n",
        "      ถ้าคะแนนอยู่ระหว่างมากกว่าหรือเท่ากับ 65 แต่น้อยกว่า 70 จะได้เกรด C+\n",
        "      ถ้าคะแนนอยู่ระหว่างมากกว่าหรือเท่ากับ 70 แต่น้อยกว่า 75 จะได้เกรด B\n",
        "      ถ้าคะแนนอยู่ระหว่างมากกว่าหรือเท่ากับ 75 แต่น้อยกว่า 80 จะได้เกรด B+\n",
        "      ถ้าคะแนนอยู่ระหว่างมากกว่าหรือเท่ากับ 80  จะได้เกรด A\n",
        "      แต่ว่าค่าคะแนนจะต้องไม่ต่ำกว่า 0 และมากกว่า 100 ไม่งั้นจะเกิด error"
      ]
    },
    {
      "cell_type": "markdown",
      "source": [
        "## ```&```, ```|```, ```in```, ```is```   :  Operator อื่นๆ"
      ],
      "metadata": {
        "id": "HSMQXdmmipMp"
      }
    },
    {
      "cell_type": "code",
      "source": [
        "if (1>0) & (0>-1):\n",
        "    print(True & True)"
      ],
      "metadata": {
        "id": "ES5d1z0ti306",
        "outputId": "4bc178b2-a5d8-4476-e02c-c87ddd5b91ce",
        "colab": {
          "base_uri": "https://localhost:8080/"
        }
      },
      "execution_count": null,
      "outputs": [
        {
          "output_type": "stream",
          "name": "stdout",
          "text": [
            "True\n"
          ]
        }
      ]
    },
    {
      "cell_type": "code",
      "source": [
        "if 'T' in 'Thanapong':\n",
        "    print('T in Thanapong')"
      ],
      "metadata": {
        "id": "3COnyOTKipAc",
        "outputId": "d50e2919-9cbc-41fb-d20f-6e5a371ebba1",
        "colab": {
          "base_uri": "https://localhost:8080/"
        }
      },
      "execution_count": null,
      "outputs": [
        {
          "output_type": "stream",
          "name": "stdout",
          "text": [
            "T in Thanapong\n"
          ]
        }
      ]
    },
    {
      "cell_type": "code",
      "source": [
        "def return_nothing(x):\n",
        "    x = x+1"
      ],
      "metadata": {
        "id": "01N3TOG9k3ti"
      },
      "execution_count": null,
      "outputs": []
    },
    {
      "cell_type": "code",
      "source": [
        "a = return_nothing(5)"
      ],
      "metadata": {
        "id": "drWbuBwNldOL"
      },
      "execution_count": null,
      "outputs": []
    },
    {
      "cell_type": "code",
      "source": [
        "if a is None:\n",
        "    print('x is null')"
      ],
      "metadata": {
        "id": "pOj0pkEEkbuW",
        "outputId": "29d5bf18-d242-40f3-a542-26c39aa2fcca",
        "colab": {
          "base_uri": "https://localhost:8080/"
        }
      },
      "execution_count": null,
      "outputs": [
        {
          "output_type": "stream",
          "name": "stdout",
          "text": [
            "x is null\n"
          ]
        }
      ]
    },
    {
      "cell_type": "code",
      "source": [],
      "metadata": {
        "id": "y1ET-H8ylyxP"
      },
      "execution_count": null,
      "outputs": []
    },
    {
      "cell_type": "markdown",
      "metadata": {
        "id": "Bg3vVE3GbPqn"
      },
      "source": [
        "# Finish"
      ]
    }
  ]
}